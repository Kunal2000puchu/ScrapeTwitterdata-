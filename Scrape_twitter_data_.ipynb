{
  "nbformat": 4,
  "nbformat_minor": 0,
  "metadata": {
    "colab": {
      "name": "Scrape twitter data #.ipynb",
      "provenance": []
    },
    "kernelspec": {
      "name": "python3",
      "display_name": "Python 3"
    },
    "language_info": {
      "name": "python"
    }
  },
  "cells": [
    {
      "cell_type": "code",
      "source": [
        "import tweepy\n",
        "import configparser\n",
        "import pandas as pd\n"
      ],
      "metadata": {
        "id": "1Gh7nTZ2Txh2"
      },
      "execution_count": 19,
      "outputs": []
    },
    {
      "cell_type": "code",
      "source": [
        "config = configparser.ConfigParser()\n",
        "config.read('config.ini')"
      ],
      "metadata": {
        "colab": {
          "base_uri": "https://localhost:8080/"
        },
        "id": "kyJds7nsXmP0",
        "outputId": "613cf174-213b-4e1f-f2e9-20a06cfcc324"
      },
      "execution_count": 20,
      "outputs": [
        {
          "output_type": "execute_result",
          "data": {
            "text/plain": [
              "[]"
            ]
          },
          "metadata": {},
          "execution_count": 20
        }
      ]
    },
    {
      "cell_type": "code",
      "source": [
        "APIkey=\"PlPYj2O3jdyxtsFMZbNUEchEn\"\n",
        "APISecreatKey=\"2GsJqKsVimQO3MZgN7gz21Z6rAORDcYe1YgTnHXuFDY8rHcw16\"\n",
        "accessToken=\"1514933451795087367-SyAI9kistvZAlWlaisSyioRkzfFEDe\"\n",
        "accessTokenSecreat=\"wSdqQAzL62gnAy5mlytcdy1T5Vadx6xIVFwb1LpmdmGz5\""
      ],
      "metadata": {
        "id": "vuwPquO2XqEw"
      },
      "execution_count": 21,
      "outputs": []
    },
    {
      "cell_type": "code",
      "source": [
        "authenticate = tweepy.OAuthHandler(APIkey,APISecreatKey)\n",
        "authenticate.set_access_token(accessToken,accessTokenSecreat)\n",
        "api= tweepy.API(authenticate)"
      ],
      "metadata": {
        "id": "OAhfM1vjXtv6"
      },
      "execution_count": 22,
      "outputs": []
    },
    {
      "cell_type": "code",
      "source": [
        "keywords = '#BoycottBollywood'\n",
        "limit=300\n",
        "\n",
        "tweets = tweepy.Cursor(api.search, q=keywords, count=100, tweet_mode='extended').items(limit)\n",
        "\n",
        "columns = ['User', 'Tweet']\n",
        "data = []\n",
        "\n",
        "for tweet in tweets:\n",
        "    data.append([tweet.user.screen_name, tweet.full_text])\n",
        "\n",
        "df = pd.DataFrame(data, columns=columns)\n",
        "\n",
        "print(df)"
      ],
      "metadata": {
        "colab": {
          "base_uri": "https://localhost:8080/"
        },
        "id": "yk_p7BYNXwLL",
        "outputId": "a823e317-e5a1-4c8c-e621-8dc5892512f6"
      },
      "execution_count": 33,
      "outputs": [
        {
          "output_type": "stream",
          "name": "stdout",
          "text": [
            "                User                                              Tweet\n",
            "0    AnkitTi37418980  RT @BoycotGuterwood: Bollywood be like....😍🔥😎 ...\n",
            "1    ankitas89586983  RT @Suryava26331100: 1. Bollywood is the only ...\n",
            "2    AnkitTi37418980  RT @jayrajverma7777: All nationalists should s...\n",
            "3    AnkitTi37418980  RT @mridulpandit11: Jai Shri Ram 🚩🚩\\n\\nBollywo...\n",
            "4    AnkitTi37418980  RT @BirendraTopal: Absolutely right @kamaalrkh...\n",
            "..               ...                                                ...\n",
            "295       raman_simi  RT @its_krutika: @thakkar_sameet \"He is the bi...\n",
            "296  AnkitTi37418980  RT @HemanthMukalla: @Abhixpatil We need to hel...\n",
            "297  AnkitTi37418980  RT @SabitaShil: #BoycottBollywood\\n#BoycottJug...\n",
            "298       tinassrian  RT @AshutoshSureka: So-called BWood Kings, Nep...\n",
            "299  AnkitTi37418980  RT @hero_ntr_: Alia Bhatt in recent interview ...\n",
            "\n",
            "[300 rows x 2 columns]\n"
          ]
        }
      ]
    },
    {
      "cell_type": "code",
      "source": [],
      "metadata": {
        "id": "0-0xRlNNX3Jg"
      },
      "execution_count": null,
      "outputs": []
    }
  ]
}